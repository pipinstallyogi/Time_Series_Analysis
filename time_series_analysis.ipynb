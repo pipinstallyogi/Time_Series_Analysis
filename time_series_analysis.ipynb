{
 "cells": [
  {
   "cell_type": "code",
   "execution_count": 50,
   "metadata": {},
   "outputs": [
    {
     "data": {
      "text/html": [
       "<div>\n",
       "<style scoped>\n",
       "    .dataframe tbody tr th:only-of-type {\n",
       "        vertical-align: middle;\n",
       "    }\n",
       "\n",
       "    .dataframe tbody tr th {\n",
       "        vertical-align: top;\n",
       "    }\n",
       "\n",
       "    .dataframe thead th {\n",
       "        text-align: right;\n",
       "    }\n",
       "</style>\n",
       "<table border=\"1\" class=\"dataframe\">\n",
       "  <thead>\n",
       "    <tr style=\"text-align: right;\">\n",
       "      <th></th>\n",
       "      <th>Open</th>\n",
       "      <th>High</th>\n",
       "      <th>Low</th>\n",
       "      <th>Close</th>\n",
       "      <th>Adj Close</th>\n",
       "      <th>Volume</th>\n",
       "    </tr>\n",
       "    <tr>\n",
       "      <th>Date</th>\n",
       "      <th></th>\n",
       "      <th></th>\n",
       "      <th></th>\n",
       "      <th></th>\n",
       "      <th></th>\n",
       "      <th></th>\n",
       "    </tr>\n",
       "  </thead>\n",
       "  <tbody>\n",
       "    <tr>\n",
       "      <th>2018-09-25</th>\n",
       "      <td>114.800003</td>\n",
       "      <td>115.099998</td>\n",
       "      <td>113.750000</td>\n",
       "      <td>114.449997</td>\n",
       "      <td>112.679375</td>\n",
       "      <td>22668000</td>\n",
       "    </tr>\n",
       "    <tr>\n",
       "      <th>2018-09-26</th>\n",
       "      <td>114.470001</td>\n",
       "      <td>115.059998</td>\n",
       "      <td>113.739998</td>\n",
       "      <td>113.980003</td>\n",
       "      <td>112.216660</td>\n",
       "      <td>19352000</td>\n",
       "    </tr>\n",
       "    <tr>\n",
       "      <th>2018-09-27</th>\n",
       "      <td>114.779999</td>\n",
       "      <td>114.910004</td>\n",
       "      <td>114.199997</td>\n",
       "      <td>114.410004</td>\n",
       "      <td>112.639999</td>\n",
       "      <td>19091300</td>\n",
       "    </tr>\n",
       "    <tr>\n",
       "      <th>2018-09-28</th>\n",
       "      <td>114.190002</td>\n",
       "      <td>114.570000</td>\n",
       "      <td>113.680000</td>\n",
       "      <td>114.370003</td>\n",
       "      <td>112.600616</td>\n",
       "      <td>21647800</td>\n",
       "    </tr>\n",
       "    <tr>\n",
       "      <th>2018-10-01</th>\n",
       "      <td>114.750000</td>\n",
       "      <td>115.680000</td>\n",
       "      <td>114.730003</td>\n",
       "      <td>115.610001</td>\n",
       "      <td>113.821434</td>\n",
       "      <td>18883100</td>\n",
       "    </tr>\n",
       "  </tbody>\n",
       "</table>\n",
       "</div>"
      ],
      "text/plain": [
       "                  Open        High         Low       Close   Adj Close  \\\n",
       "Date                                                                     \n",
       "2018-09-25  114.800003  115.099998  113.750000  114.449997  112.679375   \n",
       "2018-09-26  114.470001  115.059998  113.739998  113.980003  112.216660   \n",
       "2018-09-27  114.779999  114.910004  114.199997  114.410004  112.639999   \n",
       "2018-09-28  114.190002  114.570000  113.680000  114.370003  112.600616   \n",
       "2018-10-01  114.750000  115.680000  114.730003  115.610001  113.821434   \n",
       "\n",
       "              Volume  \n",
       "Date                  \n",
       "2018-09-25  22668000  \n",
       "2018-09-26  19352000  \n",
       "2018-09-27  19091300  \n",
       "2018-09-28  21647800  \n",
       "2018-10-01  18883100  "
      ]
     },
     "execution_count": 50,
     "metadata": {},
     "output_type": "execute_result"
    }
   ],
   "source": [
    "#Used the historical data for Microsoft from yahoo fiance\n",
    "# the function read_csv has an opruin parse_dates which convert date from string to Timestamp \n",
    "# date can be set as index directly\n",
    "import pandas as pd\n",
    "%matplotlib inline\n",
    "df = pd.read_csv('MSFT.csv', parse_dates = ['Date'], index_col = 'Date')\n",
    "df.head(5)"
   ]
  },
  {
   "cell_type": "code",
   "execution_count": 51,
   "metadata": {},
   "outputs": [
    {
     "data": {
      "text/plain": [
       "DatetimeIndex(['2018-09-25', '2018-09-26', '2018-09-27', '2018-09-28',\n",
       "               '2018-10-01', '2018-10-02', '2018-10-03', '2018-10-04',\n",
       "               '2018-10-05', '2018-10-08',\n",
       "               ...\n",
       "               '2019-09-11', '2019-09-12', '2019-09-13', '2019-09-16',\n",
       "               '2019-09-17', '2019-09-18', '2019-09-19', '2019-09-20',\n",
       "               '2019-09-23', '2019-09-24'],\n",
       "              dtype='datetime64[ns]', name='Date', length=251, freq=None)"
      ]
     },
     "execution_count": 51,
     "metadata": {},
     "output_type": "execute_result"
    }
   ],
   "source": [
    "# Now the index is of DatetimeIndex type\n",
    "df.index"
   ]
  },
  {
   "cell_type": "code",
   "execution_count": 52,
   "metadata": {},
   "outputs": [
    {
     "data": {
      "text/plain": [
       "\"df1 =df.set_index('Date')\\ndf1.head(5)\""
      ]
     },
     "execution_count": 52,
     "metadata": {},
     "output_type": "execute_result"
    }
   ],
   "source": [
    "#setting the index as Date rather that Serial nos.\n",
    "#Another option of settinf Date as the index\n",
    "'''df1 =df.set_index('Date')\n",
    "df1.head(5)'''"
   ]
  },
  {
   "cell_type": "code",
   "execution_count": 53,
   "metadata": {},
   "outputs": [
    {
     "data": {
      "text/html": [
       "<div>\n",
       "<style scoped>\n",
       "    .dataframe tbody tr th:only-of-type {\n",
       "        vertical-align: middle;\n",
       "    }\n",
       "\n",
       "    .dataframe tbody tr th {\n",
       "        vertical-align: top;\n",
       "    }\n",
       "\n",
       "    .dataframe thead th {\n",
       "        text-align: right;\n",
       "    }\n",
       "</style>\n",
       "<table border=\"1\" class=\"dataframe\">\n",
       "  <thead>\n",
       "    <tr style=\"text-align: right;\">\n",
       "      <th></th>\n",
       "      <th>Open</th>\n",
       "      <th>High</th>\n",
       "      <th>Low</th>\n",
       "      <th>Close</th>\n",
       "      <th>Adj Close</th>\n",
       "      <th>Volume</th>\n",
       "    </tr>\n",
       "    <tr>\n",
       "      <th>Date</th>\n",
       "      <th></th>\n",
       "      <th></th>\n",
       "      <th></th>\n",
       "      <th></th>\n",
       "      <th></th>\n",
       "      <th></th>\n",
       "    </tr>\n",
       "  </thead>\n",
       "  <tbody>\n",
       "    <tr>\n",
       "      <th>2019-05-01</th>\n",
       "      <td>130.529999</td>\n",
       "      <td>130.649994</td>\n",
       "      <td>127.699997</td>\n",
       "      <td>127.879997</td>\n",
       "      <td>126.985519</td>\n",
       "      <td>26821700</td>\n",
       "    </tr>\n",
       "    <tr>\n",
       "      <th>2019-05-02</th>\n",
       "      <td>127.980003</td>\n",
       "      <td>128.000000</td>\n",
       "      <td>125.519997</td>\n",
       "      <td>126.209999</td>\n",
       "      <td>125.327209</td>\n",
       "      <td>27350200</td>\n",
       "    </tr>\n",
       "    <tr>\n",
       "      <th>2019-05-03</th>\n",
       "      <td>127.360001</td>\n",
       "      <td>129.429993</td>\n",
       "      <td>127.250000</td>\n",
       "      <td>128.899994</td>\n",
       "      <td>127.998383</td>\n",
       "      <td>24911100</td>\n",
       "    </tr>\n",
       "    <tr>\n",
       "      <th>2019-05-06</th>\n",
       "      <td>126.389999</td>\n",
       "      <td>128.559998</td>\n",
       "      <td>126.110001</td>\n",
       "      <td>128.149994</td>\n",
       "      <td>127.253632</td>\n",
       "      <td>24239800</td>\n",
       "    </tr>\n",
       "    <tr>\n",
       "      <th>2019-05-07</th>\n",
       "      <td>126.459999</td>\n",
       "      <td>127.180000</td>\n",
       "      <td>124.220001</td>\n",
       "      <td>125.519997</td>\n",
       "      <td>124.642029</td>\n",
       "      <td>36017700</td>\n",
       "    </tr>\n",
       "    <tr>\n",
       "      <th>2019-05-08</th>\n",
       "      <td>125.440002</td>\n",
       "      <td>126.370003</td>\n",
       "      <td>124.750000</td>\n",
       "      <td>125.510002</td>\n",
       "      <td>124.632103</td>\n",
       "      <td>28419000</td>\n",
       "    </tr>\n",
       "    <tr>\n",
       "      <th>2019-05-09</th>\n",
       "      <td>124.290001</td>\n",
       "      <td>125.790001</td>\n",
       "      <td>123.570000</td>\n",
       "      <td>125.500000</td>\n",
       "      <td>124.622177</td>\n",
       "      <td>27235800</td>\n",
       "    </tr>\n",
       "    <tr>\n",
       "      <th>2019-05-10</th>\n",
       "      <td>124.910004</td>\n",
       "      <td>127.930000</td>\n",
       "      <td>123.820000</td>\n",
       "      <td>127.129997</td>\n",
       "      <td>126.240768</td>\n",
       "      <td>30915100</td>\n",
       "    </tr>\n",
       "    <tr>\n",
       "      <th>2019-05-13</th>\n",
       "      <td>124.110001</td>\n",
       "      <td>125.550003</td>\n",
       "      <td>123.040001</td>\n",
       "      <td>123.349998</td>\n",
       "      <td>122.487213</td>\n",
       "      <td>33944900</td>\n",
       "    </tr>\n",
       "    <tr>\n",
       "      <th>2019-05-14</th>\n",
       "      <td>123.870003</td>\n",
       "      <td>125.879997</td>\n",
       "      <td>123.699997</td>\n",
       "      <td>124.730003</td>\n",
       "      <td>123.857559</td>\n",
       "      <td>25266300</td>\n",
       "    </tr>\n",
       "    <tr>\n",
       "      <th>2019-05-15</th>\n",
       "      <td>124.260002</td>\n",
       "      <td>126.709999</td>\n",
       "      <td>123.699997</td>\n",
       "      <td>126.019997</td>\n",
       "      <td>125.601746</td>\n",
       "      <td>24722700</td>\n",
       "    </tr>\n",
       "    <tr>\n",
       "      <th>2019-05-16</th>\n",
       "      <td>126.750000</td>\n",
       "      <td>129.380005</td>\n",
       "      <td>126.459999</td>\n",
       "      <td>128.929993</td>\n",
       "      <td>128.502090</td>\n",
       "      <td>30112200</td>\n",
       "    </tr>\n",
       "    <tr>\n",
       "      <th>2019-05-17</th>\n",
       "      <td>128.309998</td>\n",
       "      <td>130.460007</td>\n",
       "      <td>127.919998</td>\n",
       "      <td>128.070007</td>\n",
       "      <td>127.644958</td>\n",
       "      <td>25770500</td>\n",
       "    </tr>\n",
       "    <tr>\n",
       "      <th>2019-05-20</th>\n",
       "      <td>126.519997</td>\n",
       "      <td>127.589996</td>\n",
       "      <td>125.760002</td>\n",
       "      <td>126.220001</td>\n",
       "      <td>125.801086</td>\n",
       "      <td>23706900</td>\n",
       "    </tr>\n",
       "    <tr>\n",
       "      <th>2019-05-21</th>\n",
       "      <td>127.430000</td>\n",
       "      <td>127.529999</td>\n",
       "      <td>126.580002</td>\n",
       "      <td>126.900002</td>\n",
       "      <td>126.478836</td>\n",
       "      <td>15293300</td>\n",
       "    </tr>\n",
       "    <tr>\n",
       "      <th>2019-05-22</th>\n",
       "      <td>126.620003</td>\n",
       "      <td>128.240005</td>\n",
       "      <td>126.519997</td>\n",
       "      <td>127.669998</td>\n",
       "      <td>127.246277</td>\n",
       "      <td>15396500</td>\n",
       "    </tr>\n",
       "    <tr>\n",
       "      <th>2019-05-23</th>\n",
       "      <td>126.199997</td>\n",
       "      <td>126.290001</td>\n",
       "      <td>124.739998</td>\n",
       "      <td>126.180000</td>\n",
       "      <td>125.761223</td>\n",
       "      <td>23603800</td>\n",
       "    </tr>\n",
       "    <tr>\n",
       "      <th>2019-05-24</th>\n",
       "      <td>126.910004</td>\n",
       "      <td>127.419998</td>\n",
       "      <td>125.970001</td>\n",
       "      <td>126.239998</td>\n",
       "      <td>125.821022</td>\n",
       "      <td>14123400</td>\n",
       "    </tr>\n",
       "    <tr>\n",
       "      <th>2019-05-28</th>\n",
       "      <td>126.980003</td>\n",
       "      <td>128.000000</td>\n",
       "      <td>126.050003</td>\n",
       "      <td>126.160004</td>\n",
       "      <td>125.741287</td>\n",
       "      <td>23128400</td>\n",
       "    </tr>\n",
       "    <tr>\n",
       "      <th>2019-05-29</th>\n",
       "      <td>125.379997</td>\n",
       "      <td>125.389999</td>\n",
       "      <td>124.040001</td>\n",
       "      <td>124.940002</td>\n",
       "      <td>124.525337</td>\n",
       "      <td>22763100</td>\n",
       "    </tr>\n",
       "    <tr>\n",
       "      <th>2019-05-30</th>\n",
       "      <td>125.260002</td>\n",
       "      <td>125.760002</td>\n",
       "      <td>124.779999</td>\n",
       "      <td>125.730003</td>\n",
       "      <td>125.312714</td>\n",
       "      <td>16829600</td>\n",
       "    </tr>\n",
       "    <tr>\n",
       "      <th>2019-05-31</th>\n",
       "      <td>124.230003</td>\n",
       "      <td>124.620003</td>\n",
       "      <td>123.320000</td>\n",
       "      <td>123.680000</td>\n",
       "      <td>123.269516</td>\n",
       "      <td>26646800</td>\n",
       "    </tr>\n",
       "  </tbody>\n",
       "</table>\n",
       "</div>"
      ],
      "text/plain": [
       "                  Open        High         Low       Close   Adj Close  \\\n",
       "Date                                                                     \n",
       "2019-05-01  130.529999  130.649994  127.699997  127.879997  126.985519   \n",
       "2019-05-02  127.980003  128.000000  125.519997  126.209999  125.327209   \n",
       "2019-05-03  127.360001  129.429993  127.250000  128.899994  127.998383   \n",
       "2019-05-06  126.389999  128.559998  126.110001  128.149994  127.253632   \n",
       "2019-05-07  126.459999  127.180000  124.220001  125.519997  124.642029   \n",
       "2019-05-08  125.440002  126.370003  124.750000  125.510002  124.632103   \n",
       "2019-05-09  124.290001  125.790001  123.570000  125.500000  124.622177   \n",
       "2019-05-10  124.910004  127.930000  123.820000  127.129997  126.240768   \n",
       "2019-05-13  124.110001  125.550003  123.040001  123.349998  122.487213   \n",
       "2019-05-14  123.870003  125.879997  123.699997  124.730003  123.857559   \n",
       "2019-05-15  124.260002  126.709999  123.699997  126.019997  125.601746   \n",
       "2019-05-16  126.750000  129.380005  126.459999  128.929993  128.502090   \n",
       "2019-05-17  128.309998  130.460007  127.919998  128.070007  127.644958   \n",
       "2019-05-20  126.519997  127.589996  125.760002  126.220001  125.801086   \n",
       "2019-05-21  127.430000  127.529999  126.580002  126.900002  126.478836   \n",
       "2019-05-22  126.620003  128.240005  126.519997  127.669998  127.246277   \n",
       "2019-05-23  126.199997  126.290001  124.739998  126.180000  125.761223   \n",
       "2019-05-24  126.910004  127.419998  125.970001  126.239998  125.821022   \n",
       "2019-05-28  126.980003  128.000000  126.050003  126.160004  125.741287   \n",
       "2019-05-29  125.379997  125.389999  124.040001  124.940002  124.525337   \n",
       "2019-05-30  125.260002  125.760002  124.779999  125.730003  125.312714   \n",
       "2019-05-31  124.230003  124.620003  123.320000  123.680000  123.269516   \n",
       "\n",
       "              Volume  \n",
       "Date                  \n",
       "2019-05-01  26821700  \n",
       "2019-05-02  27350200  \n",
       "2019-05-03  24911100  \n",
       "2019-05-06  24239800  \n",
       "2019-05-07  36017700  \n",
       "2019-05-08  28419000  \n",
       "2019-05-09  27235800  \n",
       "2019-05-10  30915100  \n",
       "2019-05-13  33944900  \n",
       "2019-05-14  25266300  \n",
       "2019-05-15  24722700  \n",
       "2019-05-16  30112200  \n",
       "2019-05-17  25770500  \n",
       "2019-05-20  23706900  \n",
       "2019-05-21  15293300  \n",
       "2019-05-22  15396500  \n",
       "2019-05-23  23603800  \n",
       "2019-05-24  14123400  \n",
       "2019-05-28  23128400  \n",
       "2019-05-29  22763100  \n",
       "2019-05-30  16829600  \n",
       "2019-05-31  26646800  "
      ]
     },
     "execution_count": 53,
     "metadata": {},
     "output_type": "execute_result"
    }
   ],
   "source": [
    "#retrieving data only for the month of May 2019\n",
    "df['2019-05']"
   ]
  },
  {
   "cell_type": "code",
   "execution_count": 54,
   "metadata": {},
   "outputs": [
    {
     "data": {
      "text/plain": [
       "126.34636299999997"
      ]
     },
     "execution_count": 54,
     "metadata": {},
     "output_type": "execute_result"
    }
   ],
   "source": [
    "# Average stock price  for month of May\n",
    "df['2019-05'].Close.mean()\n"
   ]
  },
  {
   "cell_type": "code",
   "execution_count": 55,
   "metadata": {},
   "outputs": [
    {
     "data": {
      "text/html": [
       "<div>\n",
       "<style scoped>\n",
       "    .dataframe tbody tr th:only-of-type {\n",
       "        vertical-align: middle;\n",
       "    }\n",
       "\n",
       "    .dataframe tbody tr th {\n",
       "        vertical-align: top;\n",
       "    }\n",
       "\n",
       "    .dataframe thead th {\n",
       "        text-align: right;\n",
       "    }\n",
       "</style>\n",
       "<table border=\"1\" class=\"dataframe\">\n",
       "  <thead>\n",
       "    <tr style=\"text-align: right;\">\n",
       "      <th></th>\n",
       "      <th>Open</th>\n",
       "      <th>High</th>\n",
       "      <th>Low</th>\n",
       "      <th>Close</th>\n",
       "      <th>Adj Close</th>\n",
       "      <th>Volume</th>\n",
       "    </tr>\n",
       "    <tr>\n",
       "      <th>Date</th>\n",
       "      <th></th>\n",
       "      <th></th>\n",
       "      <th></th>\n",
       "      <th></th>\n",
       "      <th></th>\n",
       "      <th></th>\n",
       "    </tr>\n",
       "  </thead>\n",
       "  <tbody>\n",
       "    <tr>\n",
       "      <th>2019-03-28</th>\n",
       "      <td>117.440002</td>\n",
       "      <td>117.580002</td>\n",
       "      <td>116.129997</td>\n",
       "      <td>116.93</td>\n",
       "      <td>116.112122</td>\n",
       "      <td>18334800</td>\n",
       "    </tr>\n",
       "  </tbody>\n",
       "</table>\n",
       "</div>"
      ],
      "text/plain": [
       "                  Open        High         Low   Close   Adj Close    Volume\n",
       "Date                                                                        \n",
       "2019-03-28  117.440002  117.580002  116.129997  116.93  116.112122  18334800"
      ]
     },
     "execution_count": 55,
     "metadata": {},
     "output_type": "execute_result"
    }
   ],
   "source": [
    "### retrieve price of stock on any given date\n",
    "df[df.index==\"2019-03-28\"]"
   ]
  },
  {
   "cell_type": "code",
   "execution_count": 56,
   "metadata": {},
   "outputs": [
    {
     "data": {
      "text/html": [
       "<div>\n",
       "<style scoped>\n",
       "    .dataframe tbody tr th:only-of-type {\n",
       "        vertical-align: middle;\n",
       "    }\n",
       "\n",
       "    .dataframe tbody tr th {\n",
       "        vertical-align: top;\n",
       "    }\n",
       "\n",
       "    .dataframe thead th {\n",
       "        text-align: right;\n",
       "    }\n",
       "</style>\n",
       "<table border=\"1\" class=\"dataframe\">\n",
       "  <thead>\n",
       "    <tr style=\"text-align: right;\">\n",
       "      <th></th>\n",
       "      <th>Open</th>\n",
       "      <th>High</th>\n",
       "      <th>Low</th>\n",
       "      <th>Close</th>\n",
       "      <th>Adj Close</th>\n",
       "      <th>Volume</th>\n",
       "    </tr>\n",
       "    <tr>\n",
       "      <th>Date</th>\n",
       "      <th></th>\n",
       "      <th></th>\n",
       "      <th></th>\n",
       "      <th></th>\n",
       "      <th></th>\n",
       "      <th></th>\n",
       "    </tr>\n",
       "  </thead>\n",
       "  <tbody>\n",
       "    <tr>\n",
       "      <th>2019-05-28</th>\n",
       "      <td>126.980003</td>\n",
       "      <td>128.000000</td>\n",
       "      <td>126.050003</td>\n",
       "      <td>126.160004</td>\n",
       "      <td>125.741287</td>\n",
       "      <td>23128400</td>\n",
       "    </tr>\n",
       "    <tr>\n",
       "      <th>2019-05-29</th>\n",
       "      <td>125.379997</td>\n",
       "      <td>125.389999</td>\n",
       "      <td>124.040001</td>\n",
       "      <td>124.940002</td>\n",
       "      <td>124.525337</td>\n",
       "      <td>22763100</td>\n",
       "    </tr>\n",
       "    <tr>\n",
       "      <th>2019-05-30</th>\n",
       "      <td>125.260002</td>\n",
       "      <td>125.760002</td>\n",
       "      <td>124.779999</td>\n",
       "      <td>125.730003</td>\n",
       "      <td>125.312714</td>\n",
       "      <td>16829600</td>\n",
       "    </tr>\n",
       "    <tr>\n",
       "      <th>2019-05-31</th>\n",
       "      <td>124.230003</td>\n",
       "      <td>124.620003</td>\n",
       "      <td>123.320000</td>\n",
       "      <td>123.680000</td>\n",
       "      <td>123.269516</td>\n",
       "      <td>26646800</td>\n",
       "    </tr>\n",
       "  </tbody>\n",
       "</table>\n",
       "</div>"
      ],
      "text/plain": [
       "                  Open        High         Low       Close   Adj Close  \\\n",
       "Date                                                                     \n",
       "2019-05-28  126.980003  128.000000  126.050003  126.160004  125.741287   \n",
       "2019-05-29  125.379997  125.389999  124.040001  124.940002  124.525337   \n",
       "2019-05-30  125.260002  125.760002  124.779999  125.730003  125.312714   \n",
       "2019-05-31  124.230003  124.620003  123.320000  123.680000  123.269516   \n",
       "\n",
       "              Volume  \n",
       "Date                  \n",
       "2019-05-28  23128400  \n",
       "2019-05-29  22763100  \n",
       "2019-05-30  16829600  \n",
       "2019-05-31  26646800  "
      ]
     },
     "execution_count": 56,
     "metadata": {},
     "output_type": "execute_result"
    }
   ],
   "source": [
    "### retrieve price of stock in any given range of date\n",
    "df[\"2019-05-28\": \"2019-05-31\"]"
   ]
  },
  {
   "cell_type": "code",
   "execution_count": 63,
   "metadata": {},
   "outputs": [
    {
     "data": {
      "text/plain": [
       "<matplotlib.axes._subplots.AxesSubplot at 0x7f77854bd400>"
      ]
     },
     "execution_count": 63,
     "metadata": {},
     "output_type": "execute_result"
    },
    {
     "data": {
      "image/png": "[encoded data removed]",
      "text/plain": [
       "<Figure size 432x288 with 1 Axes>"
      ]
     },
     "metadata": {
      "needs_background": "light"
     },
     "output_type": "display_data"
    }
   ],
   "source": [
    "#Without resampling, the graph shows stock prices on daily basis\n",
    "df.Close.plot()"
   ]
  },
  {
   "cell_type": "code",
   "execution_count": 59,
   "metadata": {},
   "outputs": [
    {
     "data": {
      "text/plain": [
       "Date\n",
       "2018-09-30    114.302502\n",
       "2018-10-31    109.207391\n",
       "2018-11-30    107.298096\n",
       "2018-12-31    104.393683\n",
       "2019-01-31    104.135238\n",
       "2019-02-28    107.927894\n",
       "2019-03-31    115.133810\n",
       "2019-04-30    122.794762\n",
       "2019-05-31    126.346363\n",
       "2019-06-30    131.994001\n",
       "2019-07-31    138.102727\n",
       "2019-08-31    136.376363\n",
       "2019-09-30    137.915627\n",
       "Freq: M, Name: Close, dtype: float64"
      ]
     },
     "execution_count": 59,
     "metadata": {},
     "output_type": "execute_result"
    }
   ],
   "source": [
    "#Resampling,  'W' can be used for weekly and similarly other option to view it on various sampling options\n",
    "df.Close.resample('M').mean()\n"
   ]
  },
  {
   "cell_type": "code",
   "execution_count": 60,
   "metadata": {},
   "outputs": [
    {
     "data": {
      "text/plain": [
       "<matplotlib.axes._subplots.AxesSubplot at 0x7f7785c8f438>"
      ]
     },
     "execution_count": 60,
     "metadata": {},
     "output_type": "execute_result"
    },
    {
     "data": {
      "image/png": "[encoded data removed]",
      "text/plain": [
       "<Figure size 432x288 with 1 Axes>"
      ]
     },
     "metadata": {
      "needs_background": "light"
     },
     "output_type": "display_data"
    }
   ],
   "source": [
    "df.Close.resample('M').mean().plot()"
   ]
  },
  {
   "cell_type": "code",
   "execution_count": 62,
   "metadata": {},
   "outputs": [
    {
     "data": {
      "text/plain": [
       "<matplotlib.axes._subplots.AxesSubplot at 0x7f77855512e8>"
      ]
     },
     "execution_count": 62,
     "metadata": {},
     "output_type": "execute_result"
    },
    {
     "data": {
      "image/png": "[encoded data removed]",
      "text/plain": [
       "<Figure size 432x288 with 1 Axes>"
      ]
     },
     "metadata": {
      "needs_background": "light"
     },
     "output_type": "display_data"
    }
   ],
   "source": [
    "#View it in bar chart format. 'Q' for quarterly sampling\n",
    "df.Close.resample('Q').mean().plot(kind ='bar')"
   ]
  },
  {
   "cell_type": "code",
   "execution_count": null,
   "metadata": {},
   "outputs": [],
   "source": []
  }
 ],
 "metadata": {
  "kernelspec": {
   "display_name": "Python 3",
   "language": "python",
   "name": "python3"
  },
  "language_info": {
   "codemirror_mode": {
    "name": "ipython",
    "version": 3
   },
   "file_extension": ".py",
   "mimetype": "text/x-python",
   "name": "python",
   "nbconvert_exporter": "python",
   "pygments_lexer": "ipython3",
   "version": "3.6.8"
  }
 },
 "nbformat": 4,
 "nbformat_minor": 2
}
